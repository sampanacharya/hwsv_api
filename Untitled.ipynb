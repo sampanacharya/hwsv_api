{
 "cells": [
  {
   "cell_type": "code",
   "execution_count": 1,
   "metadata": {},
   "outputs": [],
   "source": [
    "import numpy as np\n",
    "import tensorflow as tf\n",
    "from tensorflow import keras\n",
    "from tensorflow.keras import backend as K"
   ]
  },
  {
   "cell_type": "code",
   "execution_count": 2,
   "metadata": {},
   "outputs": [],
   "source": [
    "def contrastive_loss(y_true, y_pred):\n",
    "    margin = 1\n",
    "    # print(\"y_pred\",y_pred)\n",
    "    sqaure_pred = K.square(y_pred)\n",
    "    margin_square = K.square(K.maximum(margin - y_pred, 0))\n",
    "    return K.mean(y_true * sqaure_pred + (1 - y_true)* margin_square)\n",
    "\n",
    "def process(im_1, im_2):\n",
    "    im_1 = cv2.resize(im_1,(220,155))\n",
    "    im_2 = cv2.resize(im_2,(220,155))\n",
    "    im_1 = cv2.bitwise_not(im_1)\n",
    "    im_2 = cv2.bitwise_not(im_2)\n",
    "\n",
    "    img2show1 = im_1\n",
    "    img2show2 = im_2\n",
    "\n",
    "    im_1 = im_1/255\n",
    "    im_2 = im_2/255\n",
    "    im_1 = np.expand_dims(im_1,axis=0)\n",
    "    im_2 = np.expand_dims(im_2,axis=0)\n",
    "\n",
    "    # print(im_1, im_2)\n",
    "\n",
    "    return predict(im_1, im_2)\n",
    "    \n",
    "    # visualize(img2show1, img2show2)\n",
    "\n",
    "def predict(im_1, im_2):\n",
    "    # prediction\n",
    "    y_pred = mod.predict([im_1,im_2])\n",
    "    # print(y_pred)\n",
    "\n",
    "    return y_pred\n",
    "\n",
    "def visualize(img2show1, img2show2):\n",
    "    fig = plt.figure()\n",
    "    ax1 = fig.add_subplot(1, 2, 1)\n",
    "    ax1.imshow(img2show1)\n",
    "    ax1.set_title('original')\n",
    "    ax1.axis(\"off\")\n",
    "\n",
    "    ax2 = fig.add_subplot(1, 2, 2)\n",
    "    ax2.imshow(img2show2)\n",
    "    ax2.set_title('forgery')\n",
    "    ax2.axis(\"off\")\n",
    "\n",
    "    plt.suptitle(\"dist: \"+str(y_pred), fontsize = 20)\n",
    "    plt.show()\n",
    "\n",
    "def test(test_img_path, threshold):\n",
    "    # case 0 - ori / ori\n",
    "    # case 1 - ori / forg\n",
    "    case0_tp, case0_fn = 0, 0\n",
    "    case1_tn, case1_fp = 0, 0\n",
    "    \n",
    "    for i in range(1, 51):\n",
    "        for j in range(10):\n",
    "\n",
    "            # case 0\n",
    "            # case 0에서 서명 이미지가 같다고 예측하면 (TP), 다르다고 예측하면 (FN)\n",
    "            im_1 = cv2.imread(test_img_path+\"/\"+str(i)+\"/case0/\"+str(j)+\"_1.png\")\n",
    "            im_2 = cv2.imread(test_img_path+\"/\"+str(i)+\"/case0/\"+str(j)+\"_2.png\")\n",
    "\n",
    "            start = time.time()\n",
    "            predicted_value = process(im_1, im_2)\n",
    "            process_time = time.time() - start\n",
    "\n",
    "            if predicted_value < threshold:\n",
    "                case0_tp += 1\n",
    "                print(test_img_path+\"/\"+str(i)+\"/case0/\"+str(j)+\"_1.png\", test_img_path+\"/\"+str(i)+\"/case0/\"+str(j)+\"_2.png\", \"SAME\", 'time: ',process_time)\n",
    "            else:\n",
    "                case0_fn += 1\n",
    "                print(test_img_path+\"/\"+str(i)+\"/case0/\"+str(j)+\"_1.png\", test_img_path+\"/\"+str(i)+\"/case0/\"+str(j)+\"_2.png\", \"DIFFERENT\", 'time: ',process_time)\n",
    "            # case 1\n",
    "            # case 1에서 서명 이미지가 같다고 예측하면 (FP), 다르다고 예측하면 (TN)\n",
    "            im_1 = cv2.imread(test_img_path+\"/\"+str(i)+\"/case1/\"+str(j)+\"_1.png\")\n",
    "            im_2 = cv2.imread(test_img_path+\"/\"+str(i)+\"/case1/\"+str(j)+\"_2.png\")\n",
    "\n",
    "            start = time.time()\n",
    "            predicted_value = process(im_1, im_2)\n",
    "            process_time = time.time() - start\n",
    "            \n",
    "            if predicted_value < threshold:\n",
    "                case1_fp += 1\n",
    "                print(test_img_path+\"/\"+str(i)+\"/case1/\"+str(j)+\"_1.png\", test_img_path+\"/\"+str(i)+\"/case1/\"+str(j)+\"_2.png\", \"SAME\", 'time: ',process_time)\n",
    "            else:\n",
    "                case1_tn += 1\n",
    "                print(test_img_path+\"/\"+str(i)+\"/case1/\"+str(j)+\"_1.png\", test_img_path+\"/\"+str(i)+\"/case1/\"+str(j)+\"_2.png\", \"DIFFERENT\", 'time: ',process_time)\n",
    "        # end-loop\n",
    "    # end-loop\n",
    "    \n",
    "    # accuracy\n",
    "    acc = (case0_tp + case1_tn)/(case0_tp + case1_tn + case1_fp + case0_fn)\n",
    "    # precision\n",
    "    precision = case0_tp/(case0_tp + case1_fp)\n",
    "    # recall\n",
    "    recall = case0_tp/(case0_tp + case0_fn)\n",
    "    \n",
    "    print(\"case0_tp: \",case0_tp, \"case0_fn: \",case0_fn, \"case1_tn: \",case1_tn, \"case1_fp: \",case1_fp)\n",
    "    print(\"accuracy\",str(acc*100)+\"%\")\n",
    "    print(\"precision\",str(precision*100)+\"%\")\n",
    "    print(\"recall\",str(recall*100)+\"%\")\n",
    "    \n",
    "\n",
    "def test_data_generation_randomly(source):\n",
    "    '''\n",
    "    test_data_generation_randomly\n",
    "    50개 클래스 별 2개의 테스트 케이스가 있고 0은 original vs. original, 1은 original vs forgery\n",
    "    테스트 케이스 별 20개의 이미지를 생성\n",
    "    즉, 50개 클래스 별로 20번의 테스트를 할 수 있는 데이터 생성\n",
    "\n",
    "    ''' \n",
    "    rmtree(\"test_imgs\")\n",
    "\n",
    "    # 클래스 1부터 50\n",
    "    for i in range(1, 51):\n",
    "        os.makedirs(\"test_imgs/\"+str(i)+\"/case0\", exist_ok=True)\n",
    "        os.makedirs(\"test_imgs/\"+str(i)+\"/case1\", exist_ok=True)\n",
    "        index_list = []\n",
    "        for j in range(10):\n",
    "            # 클래스 별 ori이미지 24개, forg 이미지 24개\n",
    "            index = random.randint(1, 24)\n",
    "            while index in index_list:\n",
    "                index = random.randint(1, 24)\n",
    "            index_list.append(index)\n",
    "            # case 0,1 first data generation\n",
    "            copyfile(source+\"/full_org/\"+\"original_\"+str(i)+\"_\"+str(index)+\".png\", \"test_imgs/\"+str(i)+\"/case0/\"+str(j)+\"_1.png\")\n",
    "            copyfile(source+\"/full_org/\"+\"original_\"+str(i)+\"_\"+str(index)+\".png\", \"test_imgs/\"+str(i)+\"/case1/\"+str(j)+\"_1.png\")\n",
    "            index = random.randint(1, 24)\n",
    "            while index in index_list:\n",
    "                index = random.randint(1, 24)\n",
    "            index_list.append(index)\n",
    "            # case 0,1 second data generation\n",
    "            copyfile(source+\"/full_org/\"+\"original_\"+str(i)+\"_\"+str(index)+\".png\", \"test_imgs/\"+str(i)+\"/case0/\"+str(j)+\"_2.png\")\n",
    "            copyfile(source+\"/full_forg/\"+\"forgeries_\"+str(i)+\"_\"+str(index)+\".png\", \"test_imgs/\"+str(i)+\"/case1/\"+str(j)+\"_2.png\")\n"
   ]
  },
  {
   "cell_type": "code",
   "execution_count": 4,
   "metadata": {},
   "outputs": [],
   "source": [
    "from tensorflow.keras.models import load_model\n",
    "mod = load_model(r'ml/models/hwsv_model.h5',custom_objects={'contrastive_loss':contrastive_loss})\n"
   ]
  },
  {
   "cell_type": "code",
   "execution_count": 5,
   "metadata": {},
   "outputs": [],
   "source": [
    "import cv2\n",
    "img1 = cv2.imread(r'ml/models/original_1_1.png')\n",
    "img1 = cv2.resize(img1, (220,155))\n",
    "img1 = cv2.bitwise_not(img1)\n",
    "img1 = img1/255\n",
    "img1 = np.expand_dims(img1, axis=0)\n",
    "\n",
    "img2 = cv2.imread(r'ml/models/forgeries_1_1.png')\n",
    "img2 = cv2.resize(img2, (220,155))\n",
    "img2 = cv2.bitwise_not(img2)\n",
    "img2 = img2/255\n",
    "img2 = np.expand_dims(img2, axis=0)\n"
   ]
  },
  {
   "cell_type": "code",
   "execution_count": 6,
   "metadata": {},
   "outputs": [
    {
     "data": {
      "text/plain": [
       "array([[7.727657]], dtype=float32)"
      ]
     },
     "execution_count": 6,
     "metadata": {},
     "output_type": "execute_result"
    }
   ],
   "source": [
    "mod.predict([img1, img2])"
   ]
  },
  {
   "cell_type": "code",
   "execution_count": 7,
   "metadata": {},
   "outputs": [
    {
     "data": {
      "text/plain": [
       "(1, 155, 220, 3)"
      ]
     },
     "execution_count": 7,
     "metadata": {},
     "output_type": "execute_result"
    }
   ],
   "source": [
    "img1.shape"
   ]
  },
  {
   "cell_type": "code",
   "execution_count": null,
   "metadata": {},
   "outputs": [],
   "source": []
  }
 ],
 "metadata": {
  "kernelspec": {
   "display_name": "Python 3",
   "language": "python",
   "name": "python3"
  },
  "language_info": {
   "codemirror_mode": {
    "name": "ipython",
    "version": 3
   },
   "file_extension": ".py",
   "mimetype": "text/x-python",
   "name": "python",
   "nbconvert_exporter": "python",
   "pygments_lexer": "ipython3",
   "version": "3.7.8"
  }
 },
 "nbformat": 4,
 "nbformat_minor": 4
}
